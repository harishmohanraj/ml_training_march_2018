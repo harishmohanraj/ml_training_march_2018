{
 "cells": [
  {
   "cell_type": "code",
   "execution_count": 2,
   "metadata": {},
   "outputs": [
    {
     "data": {
      "text/plain": [
       "'\\nData types in Python\\n\\n1) Lists are ordered sequences of values.\\n2) Tuples are ordered, immutable sequences of values.\\n3) Dictionaries are unordered bags of key-value pairs.\\n\\n'"
      ]
     },
     "execution_count": 2,
     "metadata": {},
     "output_type": "execute_result"
    }
   ],
   "source": [
    "\"\"\"\n",
    "Data types in Python\n",
    "\n",
    "1) Lists are ordered sequences of values.\n",
    "2) Tuples are ordered, immutable sequences of values.\n",
    "3) Dictionaries are unordered bags of key-value pairs.\n",
    "\n",
    "\"\"\""
   ]
  },
  {
   "cell_type": "code",
   "execution_count": 3,
   "metadata": {},
   "outputs": [
    {
     "data": {
      "text/plain": [
       "'\\n\\nA list in Python is much more than an array in Java. \\nA better analogy would be to the ArrayList class, which can hold arbitrary objects and \\ncan expand dynamically as new items are added.\\n\\n'"
      ]
     },
     "execution_count": 3,
     "metadata": {},
     "output_type": "execute_result"
    }
   ],
   "source": [
    "\"\"\"\n",
    "\n",
    "A list in Python is much more than an array in Java. \n",
    "A better analogy would be to the ArrayList class, which can hold arbitrary objects and \n",
    "can expand dynamically as new items are added.\n",
    "\n",
    "\"\"\""
   ]
  },
  {
   "cell_type": "code",
   "execution_count": 4,
   "metadata": {},
   "outputs": [
    {
     "name": "stdout",
     "output_type": "stream",
     "text": [
      "['a', 'b', 'mpilgrim', 'z', 'example']\n"
     ]
    }
   ],
   "source": [
    "\"\"\"\n",
    "\n",
    "Creating a list is easy: use square brackets to wrap a comma-separated list of values.\n",
    "\n",
    "\"\"\"\n",
    "\n",
    "a_list = ['a', 'b', 'mpilgrim', 'z', 'example']\n",
    "print(a_list)"
   ]
  },
  {
   "cell_type": "code",
   "execution_count": 5,
   "metadata": {},
   "outputs": [
    {
     "name": "stdout",
     "output_type": "stream",
     "text": [
      "a\n"
     ]
    }
   ],
   "source": [
    "print(a_list[0])\n",
    "\n"
   ]
  },
  {
   "cell_type": "code",
   "execution_count": 6,
   "metadata": {},
   "outputs": [
    {
     "name": "stdout",
     "output_type": "stream",
     "text": [
      "example\n"
     ]
    }
   ],
   "source": [
    "print(a_list[4])"
   ]
  },
  {
   "cell_type": "code",
   "execution_count": 8,
   "metadata": {},
   "outputs": [
    {
     "data": {
      "text/plain": [
       "'\\nSlicing A List: \\n\\nOnce you’ve defined a list, you can get any part of it as a new list. This is called slicing the list.\\n\\n'"
      ]
     },
     "execution_count": 8,
     "metadata": {},
     "output_type": "execute_result"
    }
   ],
   "source": [
    "\"\"\"\n",
    "Slicing A List: \n",
    "\n",
    "Once you’ve defined a list, you can get any part of it as a new list. This is called slicing the list.\n",
    "\n",
    "The first slice index specifies the first item you want, and the second slice index specifies the first item you don’t want. \n",
    "\n",
    "The return value is everything in between.\n",
    "\n",
    "\"\"\"\n"
   ]
  },
  {
   "cell_type": "code",
   "execution_count": 9,
   "metadata": {},
   "outputs": [
    {
     "data": {
      "text/plain": [
       "['b', 'mpilgrim']"
      ]
     },
     "execution_count": 9,
     "metadata": {},
     "output_type": "execute_result"
    }
   ],
   "source": [
    "\"\"\" You can get a part of a list, called a “slice”, by specifying two indices \"\"\"\n",
    "\n",
    "print(a_list[1:3])"
   ]
  },
  {
   "cell_type": "code",
   "execution_count": 11,
   "metadata": {},
   "outputs": [
    {
     "data": {
      "text/plain": [
       "['z', 'example']"
      ]
     },
     "execution_count": 11,
     "metadata": {},
     "output_type": "execute_result"
    }
   ],
   "source": [
    "\"\"\" \n",
    "\n",
    "If the left slice index is 0, you can leave it out, and 0 is implied. \n",
    "So a_list[:3] is the same as a_list[0:3], because the starting 0 is implied. \n",
    "\n",
    "\"\"\"\n",
    "\n",
    "print(a_list[3:])"
   ]
  },
  {
   "cell_type": "code",
   "execution_count": 12,
   "metadata": {},
   "outputs": [
    {
     "data": {
      "text/plain": [
       "['a', 'b', 'mpilgrim', 'z', 'example']"
      ]
     },
     "execution_count": 12,
     "metadata": {},
     "output_type": "execute_result"
    }
   ],
   "source": [
    "\"\"\"\n",
    "\n",
    "If both slice indices are left out, all items of the list are included. \n",
    "But this is not the same as the original a_list variable. \n",
    "It is a new list that happens to have all the same items. a_list[:] is shorthand for making a \n",
    "complete copy of a list.\n",
    "    \n",
    "\"\"\"\n",
    "\n",
    "print(a_list[:])"
   ]
  },
  {
   "cell_type": "code",
   "execution_count": 13,
   "metadata": {},
   "outputs": [
    {
     "name": "stdout",
     "output_type": "stream",
     "text": [
      "['a']\n",
      "['a']\n"
     ]
    }
   ],
   "source": [
    "\"\"\" Adding Items To A List \"\"\"\n",
    "\n",
    "b_list = ['a']\n",
    "\n",
    "print(b_list)\n",
    "\n",
    "\"\"\" The + operator concatenates lists to create a new list. \"\"\"\n",
    "\n",
    "a_list = a_list + [2.0, 3] \n",
    "\n",
    "print(b_list)"
   ]
  },
  {
   "cell_type": "code",
   "execution_count": 14,
   "metadata": {},
   "outputs": [
    {
     "data": {
      "text/plain": [
       "('a', 'b', 'mpilgrim', 'z', 'example')"
      ]
     },
     "execution_count": 14,
     "metadata": {},
     "output_type": "execute_result"
    }
   ],
   "source": [
    "\"\"\" \n",
    "Tuples: \n",
    "\n",
    "A tuple is an immutable list. A tuple can not be changed in any way once it is created.\n",
    "In practical terms, they have no methods that would allow you to change them. \n",
    "\n",
    "\"\"\"\n",
    "\n",
    "a_tuple = (\"a\", \"b\", \"mpilgrim\", \"z\", \"example\")\n",
    "print(a_tuple)"
   ]
  },
  {
   "cell_type": "code",
   "execution_count": 15,
   "metadata": {},
   "outputs": [
    {
     "data": {
      "text/plain": [
       "('b', 'mpilgrim')"
      ]
     },
     "execution_count": 15,
     "metadata": {},
     "output_type": "execute_result"
    }
   ],
   "source": [
    "print(a_tuple[0])\n",
    "print(a_tuple[-1])\n",
    "print(a_tuple[1:3])"
   ]
  },
  {
   "cell_type": "code",
   "execution_count": 16,
   "metadata": {},
   "outputs": [
    {
     "data": {
      "text/plain": [
       "'db.diveintopython3.org'"
      ]
     },
     "execution_count": 16,
     "metadata": {},
     "output_type": "execute_result"
    }
   ],
   "source": [
    "\"\"\"\n",
    "\n",
    "Dictionaries:\n",
    "\n",
    "A dictionary is an unordered set of key-value pairs.\n",
    "\n",
    "\"\"\"\n",
    "\n",
    "a_dict = {'server': 'db.diveintopython3.org', 'database': 'mysql'}\n",
    "print(a_dict)\n",
    "print(a_dict['server'])"
   ]
  },
  {
   "cell_type": "code",
   "execution_count": null,
   "metadata": {},
   "outputs": [],
   "source": []
  }
 ],
 "metadata": {
  "kernelspec": {
   "display_name": "Python [default]",
   "language": "python",
   "name": "python3"
  },
  "language_info": {
   "codemirror_mode": {
    "name": "ipython",
    "version": 3
   },
   "file_extension": ".py",
   "mimetype": "text/x-python",
   "name": "python",
   "nbconvert_exporter": "python",
   "pygments_lexer": "ipython3",
   "version": "3.5.1"
  }
 },
 "nbformat": 4,
 "nbformat_minor": 2
}
