{
 "cells": [
  {
   "cell_type": "code",
   "execution_count": 3,
   "metadata": {},
   "outputs": [],
   "source": [
    "import numpy as np"
   ]
  },
  {
   "cell_type": "code",
   "execution_count": 1,
   "metadata": {},
   "outputs": [
    {
     "data": {
      "text/plain": [
       "'\\nWhat is Numpy:\\n\\nNumPy is a library for the Python programming language, adding support for large, \\nmulti-dimensional arrays and matrices, along with a large collection of high-level \\nmathematical functions to operate on these arrays.\\n\\n\\n'"
      ]
     },
     "execution_count": 1,
     "metadata": {},
     "output_type": "execute_result"
    }
   ],
   "source": [
    "\"\"\"\n",
    "What is Numpy:\n",
    "\n",
    " - NumPy is a library for the Python programming language\n",
    " - Stands for Numeric Python\n",
    " - Provides alternative to native Python List(Numpy Array)\n",
    "\n",
    "Advantages:\n",
    "\n",
    " - Can do calculations over the entire collection of arrays\n",
    " - Easy and Fast\n",
    " - has large collections of mathematical operations to operate\n",
    " \n",
    "Difference:\n",
    " - Can contain value of single type\n",
    "\n",
    "\"\"\""
   ]
  },
  {
   "cell_type": "code",
   "execution_count": 4,
   "metadata": {},
   "outputs": [
    {
     "name": "stdout",
     "output_type": "stream",
     "text": [
      "[1.76, 1.8, 1.57, 1.79, 1.55]\n",
      "[65.4, 70, 71.2, 104.22, 78.89]\n"
     ]
    }
   ],
   "source": [
    "\"\"\"\n",
    "\n",
    "Lets take a practical example\n",
    "\n",
    "you have the following 2 lists \n",
    "\n",
    "1) height = [1.76, 1.80, 1.57, 1.79,1.55]\n",
    "2) weight = [65.4, 70, 71.2, 104.22, 78.89]\n",
    "\n",
    "And you want to calculate the BMI using the below formula\n",
    "\n",
    "BMI = weight / height * 2\n",
    "\n",
    "\"\"\"\n",
    "\n",
    "height = [1.76, 1.80, 1.57, 1.79,1.55]\n",
    "weight = [65.4, 70, 71.2, 104.22, 78.89]\n",
    "print(height)\n",
    "print(weight)\n"
   ]
  },
  {
   "cell_type": "code",
   "execution_count": 5,
   "metadata": {},
   "outputs": [
    {
     "name": "stdout",
     "output_type": "stream",
     "text": [
      "[21.113119834710748, 21.604938271604937, 28.885553166457058, 32.52707468555913, 32.836628511966694]\n"
     ]
    }
   ],
   "source": [
    "# With Native Python List\n",
    "BMI=[]\n",
    "\n",
    "for i in range(len(height)):\n",
    "    BMI.append(weight[i] / height[i] ** 2)\n",
    "print(BMI)"
   ]
  },
  {
   "cell_type": "code",
   "execution_count": 7,
   "metadata": {},
   "outputs": [
    {
     "name": "stdout",
     "output_type": "stream",
     "text": [
      "[1.76 1.8  1.57 1.79 1.55]\n",
      "[ 65.4   70.    71.2  104.22  78.89]\n"
     ]
    }
   ],
   "source": [
    "# With Numpy List\n",
    "\n",
    "np_height = np.array(height)\n",
    "np_weight = np.array(weight)\n",
    "print(np_height)\n",
    "print(np_weight)\n"
   ]
  },
  {
   "cell_type": "code",
   "execution_count": 9,
   "metadata": {},
   "outputs": [
    {
     "name": "stdout",
     "output_type": "stream",
     "text": [
      "[21.11311983 21.60493827 28.88555317 32.52707469 32.83662851]\n",
      "[42.22623967 43.20987654 57.77110633 65.05414937 65.67325702]\n"
     ]
    }
   ],
   "source": [
    "\n",
    "np_BMI = np_weight / np_height ** 2\n",
    "\n",
    "print(np_BMI)\n",
    "\n",
    "print(np_BMI * 2)\n"
   ]
  },
  {
   "cell_type": "code",
   "execution_count": 17,
   "metadata": {},
   "outputs": [
    {
     "name": "stdout",
     "output_type": "stream",
     "text": [
      "[32.52707468555913, 32.836628511966694]\n"
     ]
    }
   ],
   "source": [
    "obese = []\n",
    "\n",
    "for i in BMI:\n",
    "    if i > 30:\n",
    "        obese.append(i)\n",
    "print(obese)"
   ]
  },
  {
   "cell_type": "code",
   "execution_count": 19,
   "metadata": {},
   "outputs": [
    {
     "name": "stdout",
     "output_type": "stream",
     "text": [
      "[32.52707469 32.83662851]\n"
     ]
    }
   ],
   "source": [
    "np_obese = np_BMI[np_BMI > 30]\n",
    "print(np_obese)"
   ]
  }
 ],
 "metadata": {
  "kernelspec": {
   "display_name": "Python [default]",
   "language": "python",
   "name": "python3"
  },
  "language_info": {
   "codemirror_mode": {
    "name": "ipython",
    "version": 3
   },
   "file_extension": ".py",
   "mimetype": "text/x-python",
   "name": "python",
   "nbconvert_exporter": "python",
   "pygments_lexer": "ipython3",
   "version": "3.5.1"
  }
 },
 "nbformat": 4,
 "nbformat_minor": 2
}
